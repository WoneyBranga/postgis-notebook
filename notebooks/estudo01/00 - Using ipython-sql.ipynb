{
 "cells": [
  {
   "cell_type": "code",
   "execution_count": 9,
   "metadata": {},
   "outputs": [
    {
     "name": "stdout",
     "output_type": "stream",
     "text": [
      "The sql extension is already loaded. To reload it, use:\n",
      "  %reload_ext sql\n"
     ]
    }
   ],
   "source": [
    "%load_ext sql"
   ]
  },
  {
   "cell_type": "code",
   "execution_count": 10,
   "metadata": {},
   "outputs": [],
   "source": [
    "import os\n"
   ]
  },
  {
   "cell_type": "code",
   "execution_count": 11,
   "metadata": {},
   "outputs": [],
   "source": [
    "host = \"db\"\n",
    "database = \"postgres\"\n",
    "user = \"postgres\"\n",
    "password = \"postgres\"\n",
    "connection_string = f\"postgresql://{user}:{password}@{host}/{database}\"\n"
   ]
  },
  {
   "cell_type": "code",
   "execution_count": 12,
   "metadata": {},
   "outputs": [],
   "source": [
    "%sql $connection_string"
   ]
  },
  {
   "cell_type": "code",
   "execution_count": 13,
   "metadata": {},
   "outputs": [
    {
     "name": "stdout",
     "output_type": "stream",
     "text": [
      " * postgresql://postgres:***@db/postgres\n",
      "10 rows affected.\n"
     ]
    },
    {
     "data": {
      "text/html": [
       "<table>\n",
       "    <thead>\n",
       "        <tr>\n",
       "            <th>id</th>\n",
       "            <th>name</th>\n",
       "            <th>country</th>\n",
       "            <th>latitude</th>\n",
       "            <th>longitude</th>\n",
       "            <th>population</th>\n",
       "        </tr>\n",
       "    </thead>\n",
       "    <tbody>\n",
       "        <tr>\n",
       "            <td>1</td>\n",
       "            <td>Bombo</td>\n",
       "            <td>UGA</td>\n",
       "            <td>0.5833</td>\n",
       "            <td>32.5333</td>\n",
       "            <td>75000</td>\n",
       "        </tr>\n",
       "        <tr>\n",
       "            <td>2</td>\n",
       "            <td>Fort Portal</td>\n",
       "            <td>UGA</td>\n",
       "            <td>0.671</td>\n",
       "            <td>30.275</td>\n",
       "            <td>42670</td>\n",
       "        </tr>\n",
       "        <tr>\n",
       "            <td>3</td>\n",
       "            <td>Potenza</td>\n",
       "            <td>ITA</td>\n",
       "            <td>40.642</td>\n",
       "            <td>15.799</td>\n",
       "            <td>69060</td>\n",
       "        </tr>\n",
       "        <tr>\n",
       "            <td>4</td>\n",
       "            <td>Campobasso</td>\n",
       "            <td>ITA</td>\n",
       "            <td>41.563</td>\n",
       "            <td>14.656</td>\n",
       "            <td>50762</td>\n",
       "        </tr>\n",
       "        <tr>\n",
       "            <td>5</td>\n",
       "            <td>Aosta</td>\n",
       "            <td>ITA</td>\n",
       "            <td>45.737</td>\n",
       "            <td>7.315</td>\n",
       "            <td>34062</td>\n",
       "        </tr>\n",
       "        <tr>\n",
       "            <td>6</td>\n",
       "            <td>Mariehamn</td>\n",
       "            <td>ALD</td>\n",
       "            <td>60.097</td>\n",
       "            <td>19.949</td>\n",
       "            <td>10682</td>\n",
       "        </tr>\n",
       "        <tr>\n",
       "            <td>7</td>\n",
       "            <td>Ramallah</td>\n",
       "            <td>PSE</td>\n",
       "            <td>31.90294</td>\n",
       "            <td>35.20621</td>\n",
       "            <td>24599</td>\n",
       "        </tr>\n",
       "        <tr>\n",
       "            <td>8</td>\n",
       "            <td>Vatican City</td>\n",
       "            <td>VAT</td>\n",
       "            <td>41.90001</td>\n",
       "            <td>12.44781</td>\n",
       "            <td>832</td>\n",
       "        </tr>\n",
       "        <tr>\n",
       "            <td>9</td>\n",
       "            <td>Poitier</td>\n",
       "            <td>FRA</td>\n",
       "            <td>46.58329</td>\n",
       "            <td>0.33328</td>\n",
       "            <td>85960</td>\n",
       "        </tr>\n",
       "        <tr>\n",
       "            <td>10</td>\n",
       "            <td>Clermont-Ferrand</td>\n",
       "            <td>FRA</td>\n",
       "            <td>45.77998</td>\n",
       "            <td>3.08001</td>\n",
       "            <td>233050</td>\n",
       "        </tr>\n",
       "    </tbody>\n",
       "</table>"
      ],
      "text/plain": [
       "[(1, 'Bombo', 'UGA', 0.5833, 32.5333, 75000),\n",
       " (2, 'Fort Portal', 'UGA', 0.671, 30.275, 42670),\n",
       " (3, 'Potenza', 'ITA', 40.642, 15.799, 69060),\n",
       " (4, 'Campobasso', 'ITA', 41.563, 14.656, 50762),\n",
       " (5, 'Aosta', 'ITA', 45.737, 7.315, 34062),\n",
       " (6, 'Mariehamn', 'ALD', 60.097, 19.949, 10682),\n",
       " (7, 'Ramallah', 'PSE', 31.90294, 35.20621, 24599),\n",
       " (8, 'Vatican City', 'VAT', 41.90001, 12.44781, 832),\n",
       " (9, 'Poitier', 'FRA', 46.58329, 0.33328, 85960),\n",
       " (10, 'Clermont-Ferrand', 'FRA', 45.77998, 3.08001, 233050)]"
      ]
     },
     "execution_count": 13,
     "metadata": {},
     "output_type": "execute_result"
    }
   ],
   "source": [
    "%%sql \n",
    "\n",
    "SELECT * from cities LIMIT 10"
   ]
  },
  {
   "cell_type": "code",
   "execution_count": null,
   "metadata": {},
   "outputs": [],
   "source": []
  }
 ],
 "metadata": {
  "kernelspec": {
   "display_name": "Python 3",
   "language": "python",
   "name": "python3"
  },
  "language_info": {
   "codemirror_mode": {
    "name": "ipython",
    "version": 3
   },
   "file_extension": ".py",
   "mimetype": "text/x-python",
   "name": "python",
   "nbconvert_exporter": "python",
   "pygments_lexer": "ipython3",
   "version": "3.9.2"
  }
 },
 "nbformat": 4,
 "nbformat_minor": 2
}
