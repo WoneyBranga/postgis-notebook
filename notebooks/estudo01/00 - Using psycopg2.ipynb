{
 "cells": [
  {
   "cell_type": "code",
   "execution_count": 2,
   "id": "1eb6dad7",
   "metadata": {},
   "outputs": [
    {
     "name": "stdout",
     "output_type": "stream",
     "text": [
      "   id              name country  latitude  longitude  population\n",
      "0   1             Bombo     UGA   0.58330   32.53330       75000\n",
      "1   2       Fort Portal     UGA   0.67100   30.27500       42670\n",
      "2   3           Potenza     ITA  40.64200   15.79900       69060\n",
      "3   4        Campobasso     ITA  41.56300   14.65600       50762\n",
      "4   5             Aosta     ITA  45.73700    7.31500       34062\n",
      "5   6         Mariehamn     ALD  60.09700   19.94900       10682\n",
      "6   7          Ramallah     PSE  31.90294   35.20621       24599\n",
      "7   8      Vatican City     VAT  41.90001   12.44781         832\n",
      "8   9           Poitier     FRA  46.58329    0.33328       85960\n",
      "9  10  Clermont-Ferrand     FRA  45.77998    3.08001      233050\n"
     ]
    }
   ],
   "source": [
    "import psycopg2\n",
    "import pandas as pd\n",
    "\n",
    "# Configurações de conexão com o banco de dados\n",
    "host = \"db\"\n",
    "database = \"postgres\"\n",
    "user = \"postgres\"\n",
    "password = \"postgres\"\n",
    "\n",
    "# Conexão com o banco de dados\n",
    "conn = psycopg2.connect(host=host, database=database, user=user, password=password)\n",
    "\n",
    "# Consulta SQL\n",
    "query = \"SELECT * FROM public.cities LIMIT 10\"\n",
    "\n",
    "# Executa a consulta SQL e obtém os resultados\n",
    "df = pd.read_sql(query, conn)\n",
    "\n",
    "# Fecha a conexão com o banco de dados\n",
    "conn.close()\n",
    "\n",
    "# Exibe o DataFrame com os resultados\n",
    "print(df)\n"
   ]
  },
  {
   "cell_type": "code",
   "execution_count": null,
   "id": "a7d8ba81",
   "metadata": {},
   "outputs": [],
   "source": []
  }
 ],
 "metadata": {
  "kernelspec": {
   "display_name": "Python 3",
   "language": "python",
   "name": "python3"
  },
  "language_info": {
   "codemirror_mode": {
    "name": "ipython",
    "version": 3
   },
   "file_extension": ".py",
   "mimetype": "text/x-python",
   "name": "python",
   "nbconvert_exporter": "python",
   "pygments_lexer": "ipython3",
   "version": "3.9.2"
  }
 },
 "nbformat": 4,
 "nbformat_minor": 5
}
